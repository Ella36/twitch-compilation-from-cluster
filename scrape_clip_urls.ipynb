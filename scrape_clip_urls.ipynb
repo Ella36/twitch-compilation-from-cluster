{
 "cells": [
  {
   "cell_type": "code",
   "execution_count": 23,
   "metadata": {},
   "outputs": [],
   "source": [
    "from selenium import webdriver\n",
    "from bs4 import BeautifulSoup\n",
    "from selenium.webdriver.firefox.options import Options\n",
    "\n",
    "options = Options()\n",
    "options.headless = True\n",
    "driver = webdriver.Firefox(options=options)\n"
   ]
  },
  {
   "cell_type": "code",
   "execution_count": null,
   "metadata": {},
   "outputs": [],
   "source": [
    "URL = 'https://www.twitch.tv/turk/clips?filter=clips&range=7d'\n",
    "driver.get(URL)"
   ]
  },
  {
   "cell_type": "code",
   "execution_count": 25,
   "metadata": {},
   "outputs": [],
   "source": [
    "content = driver.page_source\n",
    "soup = BeautifulSoup(content)\n",
    "main_panel = soup.find(\"main\")\n",
    "scrollable_area = main_panel.find(\"div\", {\"class\": \"root-scrollable scrollable-area\"})\n",
    "scroll_list = scrollable_area.find(\"div\", {\"class\": \"simplebar-scroll-content\"})\n",
    "links = scroll_list.findAll('a')\n",
    "urls = []\n",
    "for l in links:\n",
    "    rl = l.get('href')\n",
    "    if not \"/clip/\" in rl:\n",
    "        continue\n",
    "    url = \"https://www.twitch.tv\" + rl\n",
    "    urls.append(url)\n",
    "\n",
    "urls = set(urls)\n",
    "print(f'Found: {len(urls)} clips!')"
   ]
  }
 ],
 "metadata": {
  "interpreter": {
   "hash": "916dbcbb3f70747c44a77c7bcd40155683ae19c65e1c03b4aa3499c5328201f1"
  },
  "kernelspec": {
   "display_name": "Python 3.8.10 64-bit",
   "language": "python",
   "name": "python3"
  },
  "language_info": {
   "codemirror_mode": {
    "name": "ipython",
    "version": 3
   },
   "file_extension": ".py",
   "mimetype": "text/x-python",
   "name": "python",
   "nbconvert_exporter": "python",
   "pygments_lexer": "ipython3",
   "version": "3.8.10"
  },
  "orig_nbformat": 4
 },
 "nbformat": 4,
 "nbformat_minor": 2
}
